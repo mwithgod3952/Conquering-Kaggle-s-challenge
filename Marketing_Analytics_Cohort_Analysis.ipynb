{
  "nbformat": 4,
  "nbformat_minor": 0,
  "metadata": {
    "colab": {
      "name": "Marketing Analytics: Cohort Analysis.ipynb",
      "provenance": [],
      "collapsed_sections": [],
      "machine_shape": "hm",
      "authorship_tag": "ABX9TyMcdlJzOaGgPAVR1YpigHe8",
      "include_colab_link": true
    },
    "kernelspec": {
      "name": "python3",
      "display_name": "Python 3"
    },
    "language_info": {
      "name": "python"
    }
  },
  "cells": [
    {
      "cell_type": "markdown",
      "metadata": {
        "id": "view-in-github",
        "colab_type": "text"
      },
      "source": [
        "<a href=\"https://colab.research.google.com/github/mwithgod3952/Conquering-Kaggle-s-challenge/blob/main/Marketing_Analytics_Cohort_Analysis.ipynb\" target=\"_parent\"><img src=\"https://colab.research.google.com/assets/colab-badge.svg\" alt=\"Open In Colab\"/></a>"
      ]
    },
    {
      "cell_type": "markdown",
      "source": [
        "<font size = 4>Data preparation</font>"
      ],
      "metadata": {
        "id": "EDfY6vOlZNRT"
      }
    },
    {
      "cell_type": "code",
      "source": [
        "# Basic environment\n",
        "class color:\n",
        "    PURPLE = '\\033[95m'\n",
        "    CYAN = '\\033[96m'\n",
        "    DARKCYAN = '\\033[36m'\n",
        "    BLUE = '\\033[94m'\n",
        "    GREEN = '\\033[92m'\n",
        "    YELLOW = '\\033[93m'\n",
        "    RED = '\\033[91m'\n",
        "    BOLD = '\\033[1m'\n",
        "    UNDERLINE = '\\033[4m'\n",
        "    END = '\\033[0m'\n",
        "    ITALIC = '\\x1B'\n",
        "\n",
        "# drive\n",
        "from google.colab import drive; drive.mount('/content/drive', force_remount=True)\n",
        "\n",
        "# path\n",
        "import os\n",
        "\n",
        "org_pth = '/content/drive/MyDrive'\n",
        "_new_pth = [x for x in os.listdir(org_pth) if x.startswith('Cohort')][0]\n",
        "new_pth = f'{org_pth}/{_new_pth}' \n",
        "\n",
        "if new_pth.startswith('/content') and new_pth.endswith('practice'):\n",
        "    os.chdir(new_pth)\n",
        "    wp = os.getcwd()\n",
        "    print(f'\\t\\n {new_pth}')"
      ],
      "metadata": {
        "colab": {
          "base_uri": "https://localhost:8080/"
        },
        "id": "9scEEaRR5B64",
        "outputId": "581a81e9-4c6d-4796-ab0f-8746f6621c38"
      },
      "execution_count": 1,
      "outputs": [
        {
          "output_type": "stream",
          "name": "stdout",
          "text": [
            "Mounted at /content/drive\n",
            "\t\n",
            " /content/drive/MyDrive/Cohort_Analysis_practice\n"
          ]
        }
      ]
    },
    {
      "cell_type": "code",
      "execution_count": null,
      "metadata": {
        "id": "iGwgRK8926OA"
      },
      "outputs": [],
      "source": [
        "!pip install kaggle"
      ]
    },
    {
      "cell_type": "code",
      "source": [
        "from google.colab import files; files.upload()"
      ],
      "metadata": {
        "colab": {
          "resources": {
            "http://localhost:8080/nbextensions/google.colab/files.js": {
              "data": "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",
              "ok": true,
              "headers": [
                [
                  "content-type",
                  "application/javascript"
                ]
              ],
              "status": 200,
              "status_text": ""
            }
          },
          "base_uri": "https://localhost:8080/",
          "height": 90
        },
        "id": "YWVagl1p45SC",
        "outputId": "0ff777ea-bd9a-4e77-ca37-9b74f4b82b16"
      },
      "execution_count": null,
      "outputs": [
        {
          "output_type": "display_data",
          "data": {
            "text/plain": [
              "<IPython.core.display.HTML object>"
            ],
            "text/html": [
              "\n",
              "     <input type=\"file\" id=\"files-70f35f80-a086-45e7-8042-eb8235fc9b51\" name=\"files[]\" multiple disabled\n",
              "        style=\"border:none\" />\n",
              "     <output id=\"result-70f35f80-a086-45e7-8042-eb8235fc9b51\">\n",
              "      Upload widget is only available when the cell has been executed in the\n",
              "      current browser session. Please rerun this cell to enable.\n",
              "      </output>\n",
              "      <script src=\"/nbextensions/google.colab/files.js\"></script> "
            ]
          },
          "metadata": {}
        },
        {
          "output_type": "stream",
          "name": "stdout",
          "text": [
            "Saving kaggle.json to kaggle.json\n"
          ]
        },
        {
          "output_type": "execute_result",
          "data": {
            "text/plain": [
              "{'kaggle.json': b'{\"username\":\"jhleekr\",\"key\":\"740259ff05a1aa87d388c6ecd1153f10\"}'}"
            ]
          },
          "metadata": {},
          "execution_count": 3
        }
      ]
    },
    {
      "cell_type": "code",
      "source": [
        "!mkdir -p ~/.kaggle\n",
        "!cp kaggle.json ~/.kaggle/\n",
        "!chmod 600 ~/.kaggle/kaggle.json"
      ],
      "metadata": {
        "id": "EuS0ubMB9fG5"
      },
      "execution_count": null,
      "outputs": []
    },
    {
      "cell_type": "code",
      "source": [
        "!kaggle datasets download -d carrie1/ecommerce-data\n",
        "!kaggle datasets download -d mustafacicek/online-retail-final\n",
        "\n",
        "print('\\n')\n",
        "\n",
        "!unzip ecommerce-data\n",
        "!unzip online-retail-final"
      ],
      "metadata": {
        "colab": {
          "base_uri": "https://localhost:8080/"
        },
        "id": "ZtWzHx4h_NBx",
        "outputId": "b55d45dd-99e7-48c1-cbe0-af5253064b35"
      },
      "execution_count": null,
      "outputs": [
        {
          "output_type": "stream",
          "name": "stdout",
          "text": [
            "Downloading ecommerce-data.zip to /content/drive/MyDrive/Cohort_Analysis_practice\n",
            "\r  0% 0.00/7.20M [00:00<?, ?B/s]\n",
            "100% 7.20M/7.20M [00:00<00:00, 121MB/s]\n",
            "Downloading online-retail-final.zip to /content/drive/MyDrive/Cohort_Analysis_practice\n",
            "  0% 0.00/6.30M [00:00<?, ?B/s]\n",
            "100% 6.30M/6.30M [00:00<00:00, 154MB/s]\n",
            "\n",
            "\n",
            "Archive:  ecommerce-data.zip\n",
            "  inflating: data.csv                \n",
            "Archive:  online-retail-final.zip\n",
            "  inflating: online_retail_final.csv  \n"
          ]
        }
      ]
    },
    {
      "cell_type": "code",
      "source": [
        "dataset = [x for x in os.listdir(wp) if x.endswith('.csv')]\n",
        "print(dataset)"
      ],
      "metadata": {
        "id": "cBiY2HMiUpgP",
        "colab": {
          "base_uri": "https://localhost:8080/"
        },
        "outputId": "1d593cfe-8fc6-4356-ab8f-d7f217957cb6"
      },
      "execution_count": 2,
      "outputs": [
        {
          "output_type": "stream",
          "name": "stdout",
          "text": [
            "['data.csv', 'online_retail_final.csv']\n"
          ]
        }
      ]
    },
    {
      "cell_type": "markdown",
      "source": [
        "<font size = 4>Library</font>"
      ],
      "metadata": {
        "id": "aDVkREbUZlK8"
      }
    },
    {
      "cell_type": "code",
      "source": [
        "import re\n",
        "import ast\n",
        "import random\n",
        "import numpy as np\n",
        "import pandas as pd\n",
        "\n",
        "from google.colab import data_table"
      ],
      "metadata": {
        "id": "n3LrDMjMU9Mb"
      },
      "execution_count": 102,
      "outputs": []
    },
    {
      "cell_type": "code",
      "source": [
        "df1 = pd.read_csv(f'{wp}/{dataset[0]}', encoding= 'unicode_escape')\n",
        "df1.head(2)"
      ],
      "metadata": {
        "colab": {
          "base_uri": "https://localhost:8080/",
          "height": 112
        },
        "id": "Hk2U4SgGaNOu",
        "outputId": "fa45c446-6567-4d83-9ce1-4f09795bf7b5"
      },
      "execution_count": 4,
      "outputs": [
        {
          "output_type": "execute_result",
          "data": {
            "text/plain": [
              "  InvoiceNo StockCode                         Description  Quantity  \\\n",
              "0    536365    85123A  WHITE HANGING HEART T-LIGHT HOLDER         6   \n",
              "1    536365     71053                 WHITE METAL LANTERN         6   \n",
              "\n",
              "      InvoiceDate  UnitPrice  CustomerID         Country  \n",
              "0  12/1/2010 8:26       2.55     17850.0  United Kingdom  \n",
              "1  12/1/2010 8:26       3.39     17850.0  United Kingdom  "
            ],
            "text/html": [
              "\n",
              "  <div id=\"df-5240a82c-e6e2-41f3-8bef-4b0ab564751d\">\n",
              "    <div class=\"colab-df-container\">\n",
              "      <div>\n",
              "<style scoped>\n",
              "    .dataframe tbody tr th:only-of-type {\n",
              "        vertical-align: middle;\n",
              "    }\n",
              "\n",
              "    .dataframe tbody tr th {\n",
              "        vertical-align: top;\n",
              "    }\n",
              "\n",
              "    .dataframe thead th {\n",
              "        text-align: right;\n",
              "    }\n",
              "</style>\n",
              "<table border=\"1\" class=\"dataframe\">\n",
              "  <thead>\n",
              "    <tr style=\"text-align: right;\">\n",
              "      <th></th>\n",
              "      <th>InvoiceNo</th>\n",
              "      <th>StockCode</th>\n",
              "      <th>Description</th>\n",
              "      <th>Quantity</th>\n",
              "      <th>InvoiceDate</th>\n",
              "      <th>UnitPrice</th>\n",
              "      <th>CustomerID</th>\n",
              "      <th>Country</th>\n",
              "    </tr>\n",
              "  </thead>\n",
              "  <tbody>\n",
              "    <tr>\n",
              "      <th>0</th>\n",
              "      <td>536365</td>\n",
              "      <td>85123A</td>\n",
              "      <td>WHITE HANGING HEART T-LIGHT HOLDER</td>\n",
              "      <td>6</td>\n",
              "      <td>12/1/2010 8:26</td>\n",
              "      <td>2.55</td>\n",
              "      <td>17850.0</td>\n",
              "      <td>United Kingdom</td>\n",
              "    </tr>\n",
              "    <tr>\n",
              "      <th>1</th>\n",
              "      <td>536365</td>\n",
              "      <td>71053</td>\n",
              "      <td>WHITE METAL LANTERN</td>\n",
              "      <td>6</td>\n",
              "      <td>12/1/2010 8:26</td>\n",
              "      <td>3.39</td>\n",
              "      <td>17850.0</td>\n",
              "      <td>United Kingdom</td>\n",
              "    </tr>\n",
              "  </tbody>\n",
              "</table>\n",
              "</div>\n",
              "      <button class=\"colab-df-convert\" onclick=\"convertToInteractive('df-5240a82c-e6e2-41f3-8bef-4b0ab564751d')\"\n",
              "              title=\"Convert this dataframe to an interactive table.\"\n",
              "              style=\"display:none;\">\n",
              "        \n",
              "  <svg xmlns=\"http://www.w3.org/2000/svg\" height=\"24px\"viewBox=\"0 0 24 24\"\n",
              "       width=\"24px\">\n",
              "    <path d=\"M0 0h24v24H0V0z\" fill=\"none\"/>\n",
              "    <path d=\"M18.56 5.44l.94 2.06.94-2.06 2.06-.94-2.06-.94-.94-2.06-.94 2.06-2.06.94zm-11 1L8.5 8.5l.94-2.06 2.06-.94-2.06-.94L8.5 2.5l-.94 2.06-2.06.94zm10 10l.94 2.06.94-2.06 2.06-.94-2.06-.94-.94-2.06-.94 2.06-2.06.94z\"/><path d=\"M17.41 7.96l-1.37-1.37c-.4-.4-.92-.59-1.43-.59-.52 0-1.04.2-1.43.59L10.3 9.45l-7.72 7.72c-.78.78-.78 2.05 0 2.83L4 21.41c.39.39.9.59 1.41.59.51 0 1.02-.2 1.41-.59l7.78-7.78 2.81-2.81c.8-.78.8-2.07 0-2.86zM5.41 20L4 18.59l7.72-7.72 1.47 1.35L5.41 20z\"/>\n",
              "  </svg>\n",
              "      </button>\n",
              "      \n",
              "  <style>\n",
              "    .colab-df-container {\n",
              "      display:flex;\n",
              "      flex-wrap:wrap;\n",
              "      gap: 12px;\n",
              "    }\n",
              "\n",
              "    .colab-df-convert {\n",
              "      background-color: #E8F0FE;\n",
              "      border: none;\n",
              "      border-radius: 50%;\n",
              "      cursor: pointer;\n",
              "      display: none;\n",
              "      fill: #1967D2;\n",
              "      height: 32px;\n",
              "      padding: 0 0 0 0;\n",
              "      width: 32px;\n",
              "    }\n",
              "\n",
              "    .colab-df-convert:hover {\n",
              "      background-color: #E2EBFA;\n",
              "      box-shadow: 0px 1px 2px rgba(60, 64, 67, 0.3), 0px 1px 3px 1px rgba(60, 64, 67, 0.15);\n",
              "      fill: #174EA6;\n",
              "    }\n",
              "\n",
              "    [theme=dark] .colab-df-convert {\n",
              "      background-color: #3B4455;\n",
              "      fill: #D2E3FC;\n",
              "    }\n",
              "\n",
              "    [theme=dark] .colab-df-convert:hover {\n",
              "      background-color: #434B5C;\n",
              "      box-shadow: 0px 1px 3px 1px rgba(0, 0, 0, 0.15);\n",
              "      filter: drop-shadow(0px 1px 2px rgba(0, 0, 0, 0.3));\n",
              "      fill: #FFFFFF;\n",
              "    }\n",
              "  </style>\n",
              "\n",
              "      <script>\n",
              "        const buttonEl =\n",
              "          document.querySelector('#df-5240a82c-e6e2-41f3-8bef-4b0ab564751d button.colab-df-convert');\n",
              "        buttonEl.style.display =\n",
              "          google.colab.kernel.accessAllowed ? 'block' : 'none';\n",
              "\n",
              "        async function convertToInteractive(key) {\n",
              "          const element = document.querySelector('#df-5240a82c-e6e2-41f3-8bef-4b0ab564751d');\n",
              "          const dataTable =\n",
              "            await google.colab.kernel.invokeFunction('convertToInteractive',\n",
              "                                                     [key], {});\n",
              "          if (!dataTable) return;\n",
              "\n",
              "          const docLinkHtml = 'Like what you see? Visit the ' +\n",
              "            '<a target=\"_blank\" href=https://colab.research.google.com/notebooks/data_table.ipynb>data table notebook</a>'\n",
              "            + ' to learn more about interactive tables.';\n",
              "          element.innerHTML = '';\n",
              "          dataTable['output_type'] = 'display_data';\n",
              "          await google.colab.output.renderOutput(dataTable, element);\n",
              "          const docLink = document.createElement('div');\n",
              "          docLink.innerHTML = docLinkHtml;\n",
              "          element.appendChild(docLink);\n",
              "        }\n",
              "      </script>\n",
              "    </div>\n",
              "  </div>\n",
              "  "
            ]
          },
          "metadata": {},
          "execution_count": 4
        }
      ]
    },
    {
      "cell_type": "code",
      "source": [
        "print(f'\\t\\n {color.BOLD}Shape : {df1.shape}{color.END} \\n')\n",
        "\n",
        "print(f'{color.BOLD}- NULL{color.END}')\n",
        "print(df1.isnull().sum())\n",
        "print('\\n')"
      ],
      "metadata": {
        "colab": {
          "base_uri": "https://localhost:8080/"
        },
        "id": "9V-92E4bad8S",
        "outputId": "d3d6faac-d847-41a6-9ea3-f1f053ae2d18"
      },
      "execution_count": 5,
      "outputs": [
        {
          "output_type": "stream",
          "name": "stdout",
          "text": [
            "\t\n",
            " \u001b[1mShape : (541909, 8)\u001b[0m \n",
            "\n",
            "\u001b[1m- NULL\u001b[0m\n",
            "InvoiceNo           0\n",
            "StockCode           0\n",
            "Description      1454\n",
            "Quantity            0\n",
            "InvoiceDate         0\n",
            "UnitPrice           0\n",
            "CustomerID     135080\n",
            "Country             0\n",
            "dtype: int64\n",
            "\n",
            "\n"
          ]
        }
      ]
    },
    {
      "cell_type": "code",
      "source": [
        "df1[df1.Description.isnull()].iloc[:2, :]"
      ],
      "metadata": {
        "colab": {
          "base_uri": "https://localhost:8080/",
          "height": 112
        },
        "id": "aU3oD-TXdb-x",
        "outputId": "17283869-2b03-4478-f73d-aec402ad1a16"
      },
      "execution_count": 6,
      "outputs": [
        {
          "output_type": "execute_result",
          "data": {
            "text/plain": [
              "     InvoiceNo StockCode Description  Quantity      InvoiceDate  UnitPrice  \\\n",
              "622     536414     22139         NaN        56  12/1/2010 11:52        0.0   \n",
              "1970    536545     21134         NaN         1  12/1/2010 14:32        0.0   \n",
              "\n",
              "      CustomerID         Country  \n",
              "622          NaN  United Kingdom  \n",
              "1970         NaN  United Kingdom  "
            ],
            "text/html": [
              "\n",
              "  <div id=\"df-a1ad3f2f-2192-486c-9d4e-d1dac4ce8835\">\n",
              "    <div class=\"colab-df-container\">\n",
              "      <div>\n",
              "<style scoped>\n",
              "    .dataframe tbody tr th:only-of-type {\n",
              "        vertical-align: middle;\n",
              "    }\n",
              "\n",
              "    .dataframe tbody tr th {\n",
              "        vertical-align: top;\n",
              "    }\n",
              "\n",
              "    .dataframe thead th {\n",
              "        text-align: right;\n",
              "    }\n",
              "</style>\n",
              "<table border=\"1\" class=\"dataframe\">\n",
              "  <thead>\n",
              "    <tr style=\"text-align: right;\">\n",
              "      <th></th>\n",
              "      <th>InvoiceNo</th>\n",
              "      <th>StockCode</th>\n",
              "      <th>Description</th>\n",
              "      <th>Quantity</th>\n",
              "      <th>InvoiceDate</th>\n",
              "      <th>UnitPrice</th>\n",
              "      <th>CustomerID</th>\n",
              "      <th>Country</th>\n",
              "    </tr>\n",
              "  </thead>\n",
              "  <tbody>\n",
              "    <tr>\n",
              "      <th>622</th>\n",
              "      <td>536414</td>\n",
              "      <td>22139</td>\n",
              "      <td>NaN</td>\n",
              "      <td>56</td>\n",
              "      <td>12/1/2010 11:52</td>\n",
              "      <td>0.0</td>\n",
              "      <td>NaN</td>\n",
              "      <td>United Kingdom</td>\n",
              "    </tr>\n",
              "    <tr>\n",
              "      <th>1970</th>\n",
              "      <td>536545</td>\n",
              "      <td>21134</td>\n",
              "      <td>NaN</td>\n",
              "      <td>1</td>\n",
              "      <td>12/1/2010 14:32</td>\n",
              "      <td>0.0</td>\n",
              "      <td>NaN</td>\n",
              "      <td>United Kingdom</td>\n",
              "    </tr>\n",
              "  </tbody>\n",
              "</table>\n",
              "</div>\n",
              "      <button class=\"colab-df-convert\" onclick=\"convertToInteractive('df-a1ad3f2f-2192-486c-9d4e-d1dac4ce8835')\"\n",
              "              title=\"Convert this dataframe to an interactive table.\"\n",
              "              style=\"display:none;\">\n",
              "        \n",
              "  <svg xmlns=\"http://www.w3.org/2000/svg\" height=\"24px\"viewBox=\"0 0 24 24\"\n",
              "       width=\"24px\">\n",
              "    <path d=\"M0 0h24v24H0V0z\" fill=\"none\"/>\n",
              "    <path d=\"M18.56 5.44l.94 2.06.94-2.06 2.06-.94-2.06-.94-.94-2.06-.94 2.06-2.06.94zm-11 1L8.5 8.5l.94-2.06 2.06-.94-2.06-.94L8.5 2.5l-.94 2.06-2.06.94zm10 10l.94 2.06.94-2.06 2.06-.94-2.06-.94-.94-2.06-.94 2.06-2.06.94z\"/><path d=\"M17.41 7.96l-1.37-1.37c-.4-.4-.92-.59-1.43-.59-.52 0-1.04.2-1.43.59L10.3 9.45l-7.72 7.72c-.78.78-.78 2.05 0 2.83L4 21.41c.39.39.9.59 1.41.59.51 0 1.02-.2 1.41-.59l7.78-7.78 2.81-2.81c.8-.78.8-2.07 0-2.86zM5.41 20L4 18.59l7.72-7.72 1.47 1.35L5.41 20z\"/>\n",
              "  </svg>\n",
              "      </button>\n",
              "      \n",
              "  <style>\n",
              "    .colab-df-container {\n",
              "      display:flex;\n",
              "      flex-wrap:wrap;\n",
              "      gap: 12px;\n",
              "    }\n",
              "\n",
              "    .colab-df-convert {\n",
              "      background-color: #E8F0FE;\n",
              "      border: none;\n",
              "      border-radius: 50%;\n",
              "      cursor: pointer;\n",
              "      display: none;\n",
              "      fill: #1967D2;\n",
              "      height: 32px;\n",
              "      padding: 0 0 0 0;\n",
              "      width: 32px;\n",
              "    }\n",
              "\n",
              "    .colab-df-convert:hover {\n",
              "      background-color: #E2EBFA;\n",
              "      box-shadow: 0px 1px 2px rgba(60, 64, 67, 0.3), 0px 1px 3px 1px rgba(60, 64, 67, 0.15);\n",
              "      fill: #174EA6;\n",
              "    }\n",
              "\n",
              "    [theme=dark] .colab-df-convert {\n",
              "      background-color: #3B4455;\n",
              "      fill: #D2E3FC;\n",
              "    }\n",
              "\n",
              "    [theme=dark] .colab-df-convert:hover {\n",
              "      background-color: #434B5C;\n",
              "      box-shadow: 0px 1px 3px 1px rgba(0, 0, 0, 0.15);\n",
              "      filter: drop-shadow(0px 1px 2px rgba(0, 0, 0, 0.3));\n",
              "      fill: #FFFFFF;\n",
              "    }\n",
              "  </style>\n",
              "\n",
              "      <script>\n",
              "        const buttonEl =\n",
              "          document.querySelector('#df-a1ad3f2f-2192-486c-9d4e-d1dac4ce8835 button.colab-df-convert');\n",
              "        buttonEl.style.display =\n",
              "          google.colab.kernel.accessAllowed ? 'block' : 'none';\n",
              "\n",
              "        async function convertToInteractive(key) {\n",
              "          const element = document.querySelector('#df-a1ad3f2f-2192-486c-9d4e-d1dac4ce8835');\n",
              "          const dataTable =\n",
              "            await google.colab.kernel.invokeFunction('convertToInteractive',\n",
              "                                                     [key], {});\n",
              "          if (!dataTable) return;\n",
              "\n",
              "          const docLinkHtml = 'Like what you see? Visit the ' +\n",
              "            '<a target=\"_blank\" href=https://colab.research.google.com/notebooks/data_table.ipynb>data table notebook</a>'\n",
              "            + ' to learn more about interactive tables.';\n",
              "          element.innerHTML = '';\n",
              "          dataTable['output_type'] = 'display_data';\n",
              "          await google.colab.output.renderOutput(dataTable, element);\n",
              "          const docLink = document.createElement('div');\n",
              "          docLink.innerHTML = docLinkHtml;\n",
              "          element.appendChild(docLink);\n",
              "        }\n",
              "      </script>\n",
              "    </div>\n",
              "  </div>\n",
              "  "
            ]
          },
          "metadata": {},
          "execution_count": 6
        }
      ]
    },
    {
      "cell_type": "code",
      "source": [
        "des_nullDf = df1[df1.Description.isnull()].reset_index( drop=True )"
      ],
      "metadata": {
        "id": "CMCda22siju3"
      },
      "execution_count": 7,
      "outputs": []
    },
    {
      "cell_type": "code",
      "source": [
        "if len(des_nullDf) == des_nullDf.CustomerID.isnull().sum():\n",
        "    print('T')\n",
        "else:\n",
        "    print('F')"
      ],
      "metadata": {
        "colab": {
          "base_uri": "https://localhost:8080/"
        },
        "id": "LKUA22KOirX4",
        "outputId": "f3a40564-ac59-46c0-829a-893a31fde8b6"
      },
      "execution_count": 8,
      "outputs": [
        {
          "output_type": "stream",
          "name": "stdout",
          "text": [
            "T\n"
          ]
        }
      ]
    },
    {
      "cell_type": "code",
      "source": [
        "des_nullDf.UnitPrice.value_counts()"
      ],
      "metadata": {
        "colab": {
          "base_uri": "https://localhost:8080/"
        },
        "id": "WOu930M6hhVf",
        "outputId": "7f57f8e9-7cb7-429a-b2c5-f05afaab78d1"
      },
      "execution_count": 9,
      "outputs": [
        {
          "output_type": "execute_result",
          "data": {
            "text/plain": [
              "0.0    1454\n",
              "Name: UnitPrice, dtype: int64"
            ]
          },
          "metadata": {},
          "execution_count": 9
        }
      ]
    },
    {
      "cell_type": "markdown",
      "source": [
        "<font size = 2>상위의 과정을 통해 \"Description\" 열에 포함된 내용이 없을 때 \"CustomerID\" 정보 역시 누락되어 있음을 확인하였습니다, 더불어, \"UnitPrice\"는 0임을 확하였습니다.</font>"
      ],
      "metadata": {
        "id": "iuUklLIykUE8"
      }
    },
    {
      "cell_type": "code",
      "source": [
        "des_notnullDf = df1[df1.Description.notnull()].reset_index( drop=True )\n",
        "ID_NULL_cnt = des_notnullDf.CustomerID.isnull().sum()\n",
        "print(f'\\n\\t {color.BOLD}- \"Description\"정보가 확인되나, ID 정보가 누락된 경우의 수 : {ID_NULL_cnt}{color.END}')"
      ],
      "metadata": {
        "id": "Ko0NQrYOeDxF",
        "colab": {
          "base_uri": "https://localhost:8080/"
        },
        "outputId": "0ba4aac6-1259-45ea-92ca-73427414d277"
      },
      "execution_count": 10,
      "outputs": [
        {
          "output_type": "stream",
          "name": "stdout",
          "text": [
            "\n",
            "\t \u001b[1m- \"Description\"정보가 확인되나, ID 정보가 누락된 경우의 수 : 133626\u001b[0m\n"
          ]
        }
      ]
    },
    {
      "cell_type": "code",
      "source": [
        "print(f'\\n\\t - {color.BOLD}\"StockCode\"정보는 정수로만 이루어져 있거나 정수와 함께 문자열이 결합되어 기록된 것이 일반적이고, 이 외 주식코드 검색을 목적으로 문자열로만 이루어진 것들이 아래와 같이 존재합니다.{color.END}\\n')\n",
        "for i in df1[df1['StockCode'].apply(lambda x: str('Y') if re.search('[0-9]+', x) else str('N')) == 'N'].StockCode.unique():\n",
        "    print(f'\\t\\t {i}')"
      ],
      "metadata": {
        "colab": {
          "base_uri": "https://localhost:8080/"
        },
        "id": "S_kMmOF_gGDJ",
        "outputId": "dbeae417-9231-4ebd-9cd2-47a37b84bc2b"
      },
      "execution_count": 11,
      "outputs": [
        {
          "output_type": "stream",
          "name": "stdout",
          "text": [
            "\n",
            "\t - \u001b[1m\"StockCode\"정보는 정수로만 이루어져 있거나 정수와 함께 문자열이 결합되어 기록된 것이 일반적이고, 이 외 주식코드 검색을 목적으로 문자열로만 이루어진 것들이 아래와 같이 존재합니다.\u001b[0m\n",
            "\n",
            "\t\t POST\n",
            "\t\t D\n",
            "\t\t DOT\n",
            "\t\t M\n",
            "\t\t BANK CHARGES\n",
            "\t\t S\n",
            "\t\t AMAZONFEE\n",
            "\t\t m\n",
            "\t\t DCGSSBOY\n",
            "\t\t DCGSSGIRL\n",
            "\t\t PADS\n",
            "\t\t B\n",
            "\t\t CRUK\n"
          ]
        }
      ]
    },
    {
      "cell_type": "code",
      "source": [
        "df1 = df1[df1.Description.notnull() & df1.CustomerID.notnull()]\n",
        "df1.isnull().sum()"
      ],
      "metadata": {
        "colab": {
          "base_uri": "https://localhost:8080/"
        },
        "id": "S3N5B7WliKTB",
        "outputId": "31347015-a891-4be9-8cd4-20f1c32fbad8"
      },
      "execution_count": 12,
      "outputs": [
        {
          "output_type": "execute_result",
          "data": {
            "text/plain": [
              "InvoiceNo      0\n",
              "StockCode      0\n",
              "Description    0\n",
              "Quantity       0\n",
              "InvoiceDate    0\n",
              "UnitPrice      0\n",
              "CustomerID     0\n",
              "Country        0\n",
              "dtype: int64"
            ]
          },
          "metadata": {},
          "execution_count": 12
        }
      ]
    },
    {
      "cell_type": "code",
      "source": [
        "df1.loc[df1['InvoiceNo'].apply(lambda x: str('Y') if re.search('[a-zA-Z]+', x) else str('N')) == 'Y', 'InvoiceNo'].apply(lambda x: str(x)[0]).unique()"
      ],
      "metadata": {
        "colab": {
          "base_uri": "https://localhost:8080/"
        },
        "id": "QzPGTJ5vkqsJ",
        "outputId": "7d293dd9-f852-4f7d-c8c4-18caba6d48c2"
      },
      "execution_count": 13,
      "outputs": [
        {
          "output_type": "execute_result",
          "data": {
            "text/plain": [
              "array(['C'], dtype=object)"
            ]
          },
          "metadata": {},
          "execution_count": 13
        }
      ]
    },
    {
      "cell_type": "code",
      "source": [
        "wC  = df1[df1['InvoiceNo'].apply(lambda x: x.startswith('C'))]\n",
        "nwC = df1[df1['InvoiceNo'].apply(lambda x: True if len(set('AC') & set(x)) == 0 else False)]\n",
        "if (len(wC) == sum(wC.Quantity < 0)) and (len(nwC) == sum(nwC.Quantity >= 0)):\n",
        "    print('T')\n",
        "else:\n",
        "    print('N')    "
      ],
      "metadata": {
        "colab": {
          "base_uri": "https://localhost:8080/"
        },
        "id": "TrencuKTvuwq",
        "outputId": "2f4b50e0-3de7-4997-c95e-8b5cb2efd7ed"
      },
      "execution_count": 14,
      "outputs": [
        {
          "output_type": "stream",
          "name": "stdout",
          "text": [
            "T\n"
          ]
        }
      ]
    },
    {
      "cell_type": "markdown",
      "source": [
        "<font size = 2>'InvoiceNO'정보 값 중 특정 값에 알파벳 값이 결합된 경우를 발견하여 확인해본 결과, 일반 정수값 번호 외에 'C'와 'A'가 결합된 경우를 확인하였습니다.</font>\n",
        "\n",
        "<font size = 2>그 중, 'C'로 구분한 Quantity값이 모두 음수 인 것을 확인하였고 더불어, Quantity값이 음수이나 'InvoiceNO'값이 잘못 구분된 케이스 역시 없음으로, 취소된 주문건을 구분하기 위한 구분자임을 확신할 수 있습니다.</font>\n",
        "\n",
        "\n",
        "<font size = 2>우선 'Cancelled'라는 열을 만들어 주문취소가 포함된 행을 1로 나머지 행을 0으로 구분합니다.</font>\n"
      ],
      "metadata": {
        "id": "9TzlBCcCGehs"
      }
    },
    {
      "cell_type": "code",
      "source": [
        "df1.loc[wC.index, 'Cancelled'] = int(1); df1.loc[df1.Cancelled.isnull(), 'Cancelled'] = int(0)"
      ],
      "metadata": {
        "id": "hq_DrP5WLlD5"
      },
      "execution_count": 15,
      "outputs": []
    },
    {
      "cell_type": "markdown",
      "source": [
        "<font size = 2>아래부터는 주문건에 대한 정보만을을 취합하여 분석을 진행하겠습니다.</font>"
      ],
      "metadata": {
        "id": "M6UNNVOLVsgg"
      }
    },
    {
      "cell_type": "code",
      "source": [
        "_df1 = df1[df1.Cancelled == 0]\n",
        "_df1.Cancelled.value_counts()"
      ],
      "metadata": {
        "colab": {
          "base_uri": "https://localhost:8080/"
        },
        "id": "eDrx-ddpQwBx",
        "outputId": "d9af6856-3e14-4815-c1b5-3b8afe3434bb"
      },
      "execution_count": 16,
      "outputs": [
        {
          "output_type": "execute_result",
          "data": {
            "text/plain": [
              "0.0    397924\n",
              "Name: Cancelled, dtype: int64"
            ]
          },
          "metadata": {},
          "execution_count": 16
        }
      ]
    },
    {
      "cell_type": "code",
      "source": [
        "col_relevance = []\n",
        "contain_alpha = _df1[_df1['StockCode'].str.contains(\"^[a-zA-Z]\")]\n",
        "stc_str = contain_alpha.iloc[:, 1].value_counts().index.tolist()\n",
        "for i in range(len(stc_str)):\n",
        "    y = set(list(map(lambda x: str(x), _df1[_df1['StockCode'] == stc_str[i]].loc[:, ['StockCode', 'Description']].values.tolist())))\n",
        "    col_relevance.append(ast.literal_eval(list(y)[0]))\n",
        "\n",
        "cr_df = pd.DataFrame( columns=list(_df1.columns)[1:] )   \n",
        "for i in range(2):\n",
        "    cr_df.iloc[:, i] = list(zip(*col_relevance))[i]\n",
        "for j in range(len(stc_str)):\n",
        "    cr_df.iloc[j, 2:] = random.sample(_df1[_df1.StockCode == stc_str[j]].iloc[:, 3:].values.tolist(), 1)[0] \n",
        "\n",
        "print(f'{color.BOLD}- number of values ​​containing the alphabet{color.END}')\n",
        "print(contain_alpha.StockCode.value_counts())\n",
        "print(f'{color.BLUE}-{color.END}'*3)\n",
        "print(f'{color.BOLD}- comparison table comparing the values ​​of the Stockcode and other columns{color.END}')\n",
        "cr_df    "
      ],
      "metadata": {
        "colab": {
          "base_uri": "https://localhost:8080/",
          "height": 411
        },
        "id": "RrPK-IsYmgn9",
        "outputId": "4536b2e6-40b4-428b-920d-2e7d0ef78e83"
      },
      "execution_count": 135,
      "outputs": [
        {
          "output_type": "stream",
          "name": "stdout",
          "text": [
            "\u001b[1m- number of values ​​containing the alphabet\u001b[0m\n",
            "POST            1099\n",
            "M                290\n",
            "C2               133\n",
            "DOT               16\n",
            "BANK CHARGES      12\n",
            "PADS               4\n",
            "Name: StockCode, dtype: int64\n",
            "\u001b[94m-\u001b[0m\u001b[94m-\u001b[0m\u001b[94m-\u001b[0m\n",
            "\u001b[1m- comparison table comparing the values ​​of the Stockcode and other columns\u001b[0m\n"
          ]
        },
        {
          "output_type": "execute_result",
          "data": {
            "text/plain": [
              "      StockCode                 Description Quantity       InvoiceDate  \\\n",
              "0          POST                     POSTAGE        1   12/2/2011 10:24   \n",
              "1             M                      Manual        2  12/14/2010 10:38   \n",
              "2            C2                    CARRIAGE        1   2/18/2011 11:36   \n",
              "3           DOT              DOTCOM POSTAGE        1  10/24/2011 17:07   \n",
              "4  BANK CHARGES                Bank Charges        1   12/2/2010 15:08   \n",
              "5          PADS  PADS TO MATCH ALL CUSHIONS        1   7/26/2011 10:13   \n",
              "\n",
              "  UnitPrice CustomerID         Country Cancelled  \n",
              "0      18.0    12569.0         Germany       0.0  \n",
              "1      0.21    17894.0  United Kingdom       0.0  \n",
              "2      50.0    14911.0            EIRE       0.0  \n",
              "3     638.3    14096.0  United Kingdom       0.0  \n",
              "4      15.0    15823.0  United Kingdom       0.0  \n",
              "5     0.001    15618.0  United Kingdom       0.0  "
            ],
            "text/html": [
              "\n",
              "  <div id=\"df-a49862d5-52dd-47da-9afa-f802d8f3b10d\">\n",
              "    <div class=\"colab-df-container\">\n",
              "      <div>\n",
              "<style scoped>\n",
              "    .dataframe tbody tr th:only-of-type {\n",
              "        vertical-align: middle;\n",
              "    }\n",
              "\n",
              "    .dataframe tbody tr th {\n",
              "        vertical-align: top;\n",
              "    }\n",
              "\n",
              "    .dataframe thead th {\n",
              "        text-align: right;\n",
              "    }\n",
              "</style>\n",
              "<table border=\"1\" class=\"dataframe\">\n",
              "  <thead>\n",
              "    <tr style=\"text-align: right;\">\n",
              "      <th></th>\n",
              "      <th>StockCode</th>\n",
              "      <th>Description</th>\n",
              "      <th>Quantity</th>\n",
              "      <th>InvoiceDate</th>\n",
              "      <th>UnitPrice</th>\n",
              "      <th>CustomerID</th>\n",
              "      <th>Country</th>\n",
              "      <th>Cancelled</th>\n",
              "    </tr>\n",
              "  </thead>\n",
              "  <tbody>\n",
              "    <tr>\n",
              "      <th>0</th>\n",
              "      <td>POST</td>\n",
              "      <td>POSTAGE</td>\n",
              "      <td>1</td>\n",
              "      <td>12/2/2011 10:24</td>\n",
              "      <td>18.0</td>\n",
              "      <td>12569.0</td>\n",
              "      <td>Germany</td>\n",
              "      <td>0.0</td>\n",
              "    </tr>\n",
              "    <tr>\n",
              "      <th>1</th>\n",
              "      <td>M</td>\n",
              "      <td>Manual</td>\n",
              "      <td>2</td>\n",
              "      <td>12/14/2010 10:38</td>\n",
              "      <td>0.21</td>\n",
              "      <td>17894.0</td>\n",
              "      <td>United Kingdom</td>\n",
              "      <td>0.0</td>\n",
              "    </tr>\n",
              "    <tr>\n",
              "      <th>2</th>\n",
              "      <td>C2</td>\n",
              "      <td>CARRIAGE</td>\n",
              "      <td>1</td>\n",
              "      <td>2/18/2011 11:36</td>\n",
              "      <td>50.0</td>\n",
              "      <td>14911.0</td>\n",
              "      <td>EIRE</td>\n",
              "      <td>0.0</td>\n",
              "    </tr>\n",
              "    <tr>\n",
              "      <th>3</th>\n",
              "      <td>DOT</td>\n",
              "      <td>DOTCOM POSTAGE</td>\n",
              "      <td>1</td>\n",
              "      <td>10/24/2011 17:07</td>\n",
              "      <td>638.3</td>\n",
              "      <td>14096.0</td>\n",
              "      <td>United Kingdom</td>\n",
              "      <td>0.0</td>\n",
              "    </tr>\n",
              "    <tr>\n",
              "      <th>4</th>\n",
              "      <td>BANK CHARGES</td>\n",
              "      <td>Bank Charges</td>\n",
              "      <td>1</td>\n",
              "      <td>12/2/2010 15:08</td>\n",
              "      <td>15.0</td>\n",
              "      <td>15823.0</td>\n",
              "      <td>United Kingdom</td>\n",
              "      <td>0.0</td>\n",
              "    </tr>\n",
              "    <tr>\n",
              "      <th>5</th>\n",
              "      <td>PADS</td>\n",
              "      <td>PADS TO MATCH ALL CUSHIONS</td>\n",
              "      <td>1</td>\n",
              "      <td>7/26/2011 10:13</td>\n",
              "      <td>0.001</td>\n",
              "      <td>15618.0</td>\n",
              "      <td>United Kingdom</td>\n",
              "      <td>0.0</td>\n",
              "    </tr>\n",
              "  </tbody>\n",
              "</table>\n",
              "</div>\n",
              "      <button class=\"colab-df-convert\" onclick=\"convertToInteractive('df-a49862d5-52dd-47da-9afa-f802d8f3b10d')\"\n",
              "              title=\"Convert this dataframe to an interactive table.\"\n",
              "              style=\"display:none;\">\n",
              "        \n",
              "  <svg xmlns=\"http://www.w3.org/2000/svg\" height=\"24px\"viewBox=\"0 0 24 24\"\n",
              "       width=\"24px\">\n",
              "    <path d=\"M0 0h24v24H0V0z\" fill=\"none\"/>\n",
              "    <path d=\"M18.56 5.44l.94 2.06.94-2.06 2.06-.94-2.06-.94-.94-2.06-.94 2.06-2.06.94zm-11 1L8.5 8.5l.94-2.06 2.06-.94-2.06-.94L8.5 2.5l-.94 2.06-2.06.94zm10 10l.94 2.06.94-2.06 2.06-.94-2.06-.94-.94-2.06-.94 2.06-2.06.94z\"/><path d=\"M17.41 7.96l-1.37-1.37c-.4-.4-.92-.59-1.43-.59-.52 0-1.04.2-1.43.59L10.3 9.45l-7.72 7.72c-.78.78-.78 2.05 0 2.83L4 21.41c.39.39.9.59 1.41.59.51 0 1.02-.2 1.41-.59l7.78-7.78 2.81-2.81c.8-.78.8-2.07 0-2.86zM5.41 20L4 18.59l7.72-7.72 1.47 1.35L5.41 20z\"/>\n",
              "  </svg>\n",
              "      </button>\n",
              "      \n",
              "  <style>\n",
              "    .colab-df-container {\n",
              "      display:flex;\n",
              "      flex-wrap:wrap;\n",
              "      gap: 12px;\n",
              "    }\n",
              "\n",
              "    .colab-df-convert {\n",
              "      background-color: #E8F0FE;\n",
              "      border: none;\n",
              "      border-radius: 50%;\n",
              "      cursor: pointer;\n",
              "      display: none;\n",
              "      fill: #1967D2;\n",
              "      height: 32px;\n",
              "      padding: 0 0 0 0;\n",
              "      width: 32px;\n",
              "    }\n",
              "\n",
              "    .colab-df-convert:hover {\n",
              "      background-color: #E2EBFA;\n",
              "      box-shadow: 0px 1px 2px rgba(60, 64, 67, 0.3), 0px 1px 3px 1px rgba(60, 64, 67, 0.15);\n",
              "      fill: #174EA6;\n",
              "    }\n",
              "\n",
              "    [theme=dark] .colab-df-convert {\n",
              "      background-color: #3B4455;\n",
              "      fill: #D2E3FC;\n",
              "    }\n",
              "\n",
              "    [theme=dark] .colab-df-convert:hover {\n",
              "      background-color: #434B5C;\n",
              "      box-shadow: 0px 1px 3px 1px rgba(0, 0, 0, 0.15);\n",
              "      filter: drop-shadow(0px 1px 2px rgba(0, 0, 0, 0.3));\n",
              "      fill: #FFFFFF;\n",
              "    }\n",
              "  </style>\n",
              "\n",
              "      <script>\n",
              "        const buttonEl =\n",
              "          document.querySelector('#df-a49862d5-52dd-47da-9afa-f802d8f3b10d button.colab-df-convert');\n",
              "        buttonEl.style.display =\n",
              "          google.colab.kernel.accessAllowed ? 'block' : 'none';\n",
              "\n",
              "        async function convertToInteractive(key) {\n",
              "          const element = document.querySelector('#df-a49862d5-52dd-47da-9afa-f802d8f3b10d');\n",
              "          const dataTable =\n",
              "            await google.colab.kernel.invokeFunction('convertToInteractive',\n",
              "                                                     [key], {});\n",
              "          if (!dataTable) return;\n",
              "\n",
              "          const docLinkHtml = 'Like what you see? Visit the ' +\n",
              "            '<a target=\"_blank\" href=https://colab.research.google.com/notebooks/data_table.ipynb>data table notebook</a>'\n",
              "            + ' to learn more about interactive tables.';\n",
              "          element.innerHTML = '';\n",
              "          dataTable['output_type'] = 'display_data';\n",
              "          await google.colab.output.renderOutput(dataTable, element);\n",
              "          const docLink = document.createElement('div');\n",
              "          docLink.innerHTML = docLinkHtml;\n",
              "          element.appendChild(docLink);\n",
              "        }\n",
              "      </script>\n",
              "    </div>\n",
              "  </div>\n",
              "  "
            ]
          },
          "metadata": {},
          "execution_count": 135
        }
      ]
    },
    {
      "cell_type": "markdown",
      "source": [
        "<font size = 2></font>"
      ],
      "metadata": {
        "id": "PZpXigf12NP8"
      }
    },
    {
      "cell_type": "code",
      "source": [
        ""
      ],
      "metadata": {
        "id": "FLtojkBz1uwG"
      },
      "execution_count": null,
      "outputs": []
    },
    {
      "cell_type": "code",
      "source": [
        ""
      ],
      "metadata": {
        "id": "hBdfJfB41utR"
      },
      "execution_count": null,
      "outputs": []
    },
    {
      "cell_type": "code",
      "source": [
        ""
      ],
      "metadata": {
        "id": "XmhEqemd1uoh"
      },
      "execution_count": null,
      "outputs": []
    },
    {
      "cell_type": "code",
      "source": [
        ""
      ],
      "metadata": {
        "id": "2sJKhMri1umC"
      },
      "execution_count": null,
      "outputs": []
    },
    {
      "cell_type": "code",
      "source": [
        ""
      ],
      "metadata": {
        "id": "_1kXNhFw1ujw"
      },
      "execution_count": null,
      "outputs": []
    },
    {
      "cell_type": "code",
      "source": [
        ""
      ],
      "metadata": {
        "id": "BPe8_VfZ1uhd"
      },
      "execution_count": null,
      "outputs": []
    },
    {
      "cell_type": "code",
      "source": [
        ""
      ],
      "metadata": {
        "id": "fsuJg8rV1ufX"
      },
      "execution_count": null,
      "outputs": []
    },
    {
      "cell_type": "code",
      "source": [
        ""
      ],
      "metadata": {
        "id": "ruX9lNwL1uc5"
      },
      "execution_count": null,
      "outputs": []
    },
    {
      "cell_type": "code",
      "source": [
        ""
      ],
      "metadata": {
        "id": "syW3IY1x1uac"
      },
      "execution_count": null,
      "outputs": []
    },
    {
      "cell_type": "code",
      "source": [
        ""
      ],
      "metadata": {
        "id": "LECrOieZ1uX0"
      },
      "execution_count": null,
      "outputs": []
    },
    {
      "cell_type": "code",
      "source": [
        ""
      ],
      "metadata": {
        "id": "CckVgn5c1uVX"
      },
      "execution_count": null,
      "outputs": []
    },
    {
      "cell_type": "code",
      "source": [
        "for i in range(6):\n",
        "    print(_df1[_df1.StockCode == stc_str[i]])\n",
        "    print()"
      ],
      "metadata": {
        "id": "BtNqxtzATIWm",
        "colab": {
          "base_uri": "https://localhost:8080/"
        },
        "outputId": "d3eb29a8-8d77-42a3-e1e9-885dab31dde4"
      },
      "execution_count": 146,
      "outputs": [
        {
          "output_type": "stream",
          "name": "stdout",
          "text": [
            "       InvoiceNo StockCode Description  Quantity      InvoiceDate  UnitPrice  \\\n",
            "45        536370      POST     POSTAGE         3   12/1/2010 8:45       18.0   \n",
            "386       536403      POST     POSTAGE         1  12/1/2010 11:27       15.0   \n",
            "1123      536527      POST     POSTAGE         1  12/1/2010 13:04       18.0   \n",
            "5073      536840      POST     POSTAGE         1  12/2/2010 18:27       18.0   \n",
            "5258      536852      POST     POSTAGE         1   12/3/2010 9:51       18.0   \n",
            "...          ...       ...         ...       ...              ...        ...   \n",
            "541198    581493      POST     POSTAGE         1  12/9/2011 10:10       15.0   \n",
            "541216    581494      POST     POSTAGE         2  12/9/2011 10:13       18.0   \n",
            "541730    581570      POST     POSTAGE         1  12/9/2011 11:59       18.0   \n",
            "541767    581574      POST     POSTAGE         2  12/9/2011 12:09       18.0   \n",
            "541768    581578      POST     POSTAGE         3  12/9/2011 12:16       18.0   \n",
            "\n",
            "        CustomerID      Country  Cancelled  \n",
            "45         12583.0       France        0.0  \n",
            "386        12791.0  Netherlands        0.0  \n",
            "1123       12662.0      Germany        0.0  \n",
            "5073       12738.0      Germany        0.0  \n",
            "5258       12686.0       France        0.0  \n",
            "...            ...          ...        ...  \n",
            "541198     12423.0      Belgium        0.0  \n",
            "541216     12518.0      Germany        0.0  \n",
            "541730     12662.0      Germany        0.0  \n",
            "541767     12526.0      Germany        0.0  \n",
            "541768     12713.0      Germany        0.0  \n",
            "\n",
            "[1099 rows x 9 columns]\n",
            "\n",
            "       InvoiceNo StockCode Description  Quantity      InvoiceDate  UnitPrice  \\\n",
            "2239      536569         M      Manual         1  12/1/2010 15:35       1.25   \n",
            "2250      536569         M      Manual         1  12/1/2010 15:35      18.95   \n",
            "6798      536981         M      Manual         2  12/3/2010 14:26       0.85   \n",
            "7976      537077         M      Manual        12  12/5/2010 11:59       0.42   \n",
            "8530      537137         M      Manual        36  12/5/2010 12:43       0.85   \n",
            "...          ...       ...         ...       ...              ...        ...   \n",
            "526015    580645         M      Manual         1  12/5/2011 13:11     219.50   \n",
            "526018    580646         M      Manual       800  12/5/2011 13:13       0.25   \n",
            "530876    580884         M      Manual         1  12/6/2011 12:21       0.85   \n",
            "531432    580956         M      Manual         4  12/6/2011 14:23       1.25   \n",
            "538321    581405         M      Manual         3  12/8/2011 13:50       0.42   \n",
            "\n",
            "        CustomerID         Country  Cancelled  \n",
            "2239       16274.0  United Kingdom        0.0  \n",
            "2250       16274.0  United Kingdom        0.0  \n",
            "6798       14723.0  United Kingdom        0.0  \n",
            "7976       17062.0  United Kingdom        0.0  \n",
            "8530       16327.0  United Kingdom        0.0  \n",
            "...            ...             ...        ...  \n",
            "526015     17857.0  United Kingdom        0.0  \n",
            "526018     17857.0  United Kingdom        0.0  \n",
            "530876     15907.0  United Kingdom        0.0  \n",
            "531432     17841.0  United Kingdom        0.0  \n",
            "538321     13521.0  United Kingdom        0.0  \n",
            "\n",
            "[290 rows x 9 columns]\n",
            "\n",
            "       InvoiceNo StockCode Description  Quantity       InvoiceDate  UnitPrice  \\\n",
            "1423      536540        C2    CARRIAGE         1   12/1/2010 14:05       50.0   \n",
            "12119     537368        C2    CARRIAGE         1   12/6/2010 12:40       50.0   \n",
            "12452     537378        C2    CARRIAGE         1   12/6/2010 13:06       50.0   \n",
            "19975     537963        C2    CARRIAGE         1   12/9/2010 11:30       50.0   \n",
            "20016     538002        C2    CARRIAGE         1   12/9/2010 11:48       50.0   \n",
            "...          ...       ...         ...       ...               ...        ...   \n",
            "513202    579539        C2    CARRIAGE         1  11/30/2011 10:06       50.0   \n",
            "515000    579768        C2    CARRIAGE         1  11/30/2011 15:08       50.0   \n",
            "516484    579910        C2    CARRIAGE         1    12/1/2011 8:52       50.0   \n",
            "518905    580127        C2    CARRIAGE         1   12/1/2011 17:51       50.0   \n",
            "524450    580555        C2    CARRIAGE         1   12/5/2011 10:18       50.0   \n",
            "\n",
            "        CustomerID          Country  Cancelled  \n",
            "1423       14911.0             EIRE        0.0  \n",
            "12119      14911.0             EIRE        0.0  \n",
            "12452      14911.0             EIRE        0.0  \n",
            "19975      13369.0   United Kingdom        0.0  \n",
            "20016      14932.0  Channel Islands        0.0  \n",
            "...            ...              ...        ...  \n",
            "513202     14911.0             EIRE        0.0  \n",
            "515000     14911.0             EIRE        0.0  \n",
            "516484     14911.0             EIRE        0.0  \n",
            "518905     14911.0             EIRE        0.0  \n",
            "524450     14911.0             EIRE        0.0  \n",
            "\n",
            "[133 rows x 9 columns]\n",
            "\n",
            "       InvoiceNo StockCode     Description  Quantity       InvoiceDate  \\\n",
            "317507    564764       DOT  DOTCOM POSTAGE         1   8/30/2011 10:49   \n",
            "324002    565383       DOT  DOTCOM POSTAGE         1    9/2/2011 15:45   \n",
            "333755    566217       DOT  DOTCOM POSTAGE         1    9/9/2011 15:17   \n",
            "338829    566566       DOT  DOTCOM POSTAGE         1   9/13/2011 12:32   \n",
            "350599    567656       DOT  DOTCOM POSTAGE         1   9/21/2011 14:40   \n",
            "361584    568346       DOT  DOTCOM POSTAGE         1   9/26/2011 15:28   \n",
            "372766    569246       DOT  DOTCOM POSTAGE         1    10/3/2011 9:57   \n",
            "389983    570488       DOT  DOTCOM POSTAGE         1  10/10/2011 17:12   \n",
            "401766    571441       DOT  DOTCOM POSTAGE         1  10/17/2011 13:31   \n",
            "416463    572552       DOT  DOTCOM POSTAGE         1  10/24/2011 17:07   \n",
            "429588    573576       DOT  DOTCOM POSTAGE         1  10/31/2011 14:09   \n",
            "455261    575607       DOT  DOTCOM POSTAGE         1  11/10/2011 12:37   \n",
            "467436    576339       DOT  DOTCOM POSTAGE         1  11/14/2011 15:27   \n",
            "494728    578270       DOT  DOTCOM POSTAGE         1  11/23/2011 13:39   \n",
            "508459    579196       DOT  DOTCOM POSTAGE         1  11/28/2011 15:54   \n",
            "528082    580727       DOT  DOTCOM POSTAGE         1   12/5/2011 17:17   \n",
            "\n",
            "        UnitPrice  CustomerID         Country  Cancelled  \n",
            "317507      11.17     14096.0  United Kingdom        0.0  \n",
            "324002      16.46     14096.0  United Kingdom        0.0  \n",
            "333755      13.16     14096.0  United Kingdom        0.0  \n",
            "338829      85.58     14096.0  United Kingdom        0.0  \n",
            "350599     878.55     14096.0  United Kingdom        0.0  \n",
            "361584     688.08     14096.0  United Kingdom        0.0  \n",
            "372766     490.25     14096.0  United Kingdom        0.0  \n",
            "389983     635.01     14096.0  United Kingdom        0.0  \n",
            "401766     743.62     14096.0  United Kingdom        0.0  \n",
            "416463     638.30     14096.0  United Kingdom        0.0  \n",
            "429588     901.58     14096.0  United Kingdom        0.0  \n",
            "455261     908.16     14096.0  United Kingdom        0.0  \n",
            "467436    1500.36     14096.0  United Kingdom        0.0  \n",
            "494728    1270.06     14096.0  United Kingdom        0.0  \n",
            "508459    1526.76     14096.0  United Kingdom        0.0  \n",
            "528082    1599.26     14096.0  United Kingdom        0.0  \n",
            "\n",
            "       InvoiceNo     StockCode   Description  Quantity       InvoiceDate  \\\n",
            "4406      536779  BANK CHARGES  Bank Charges         1   12/2/2010 15:08   \n",
            "62508     541505  BANK CHARGES  Bank Charges         1   1/18/2011 15:58   \n",
            "152966    549717  BANK CHARGES  Bank Charges         1   4/11/2011 14:56   \n",
            "175275    551945  BANK CHARGES  Bank Charges         1    5/5/2011 11:09   \n",
            "327921    565735  BANK CHARGES  Bank Charges         1    9/6/2011 12:25   \n",
            "361740    568375  BANK CHARGES  Bank Charges         1   9/26/2011 17:01   \n",
            "361741    568375  BANK CHARGES  Bank Charges         1   9/26/2011 17:01   \n",
            "407618    571900  BANK CHARGES  Bank Charges         1  10/19/2011 14:26   \n",
            "431351    573586  BANK CHARGES  Bank Charges         1  10/31/2011 14:48   \n",
            "440745    574546  BANK CHARGES  Bank Charges         1   11/4/2011 14:59   \n",
            "506357    579137  BANK CHARGES  Bank Charges         1  11/28/2011 12:51   \n",
            "534008    581127  BANK CHARGES  Bank Charges         1   12/7/2011 12:45   \n",
            "\n",
            "        UnitPrice  CustomerID         Country  Cancelled  \n",
            "4406       15.000     15823.0  United Kingdom        0.0  \n",
            "62508      15.000     15939.0  United Kingdom        0.0  \n",
            "152966     15.000     14606.0  United Kingdom        0.0  \n",
            "175275     15.000     16714.0  United Kingdom        0.0  \n",
            "327921     15.000     16904.0  United Kingdom        0.0  \n",
            "361740     15.000     13405.0  United Kingdom        0.0  \n",
            "361741      0.001     13405.0  United Kingdom        0.0  \n",
            "407618     15.000     13263.0  United Kingdom        0.0  \n",
            "431351     15.000     14704.0  United Kingdom        0.0  \n",
            "440745     15.000     13651.0  United Kingdom        0.0  \n",
            "506357     15.000     14704.0  United Kingdom        0.0  \n",
            "534008     15.000     16271.0  United Kingdom        0.0  \n",
            "\n",
            "       InvoiceNo StockCode                 Description  Quantity  \\\n",
            "157195    550193      PADS  PADS TO MATCH ALL CUSHIONS         1   \n",
            "279045    561226      PADS  PADS TO MATCH ALL CUSHIONS         1   \n",
            "358655    568158      PADS  PADS TO MATCH ALL CUSHIONS         1   \n",
            "359871    568200      PADS  PADS TO MATCH ALL CUSHIONS         1   \n",
            "\n",
            "            InvoiceDate  UnitPrice  CustomerID         Country  Cancelled  \n",
            "157195   4/15/2011 9:27      0.001     13952.0  United Kingdom        0.0  \n",
            "279045  7/26/2011 10:13      0.001     15618.0  United Kingdom        0.0  \n",
            "358655  9/25/2011 12:22      0.000     16133.0  United Kingdom        0.0  \n",
            "359871  9/25/2011 14:58      0.001     16198.0  United Kingdom        0.0  \n",
            "\n"
          ]
        }
      ]
    },
    {
      "cell_type": "code",
      "source": [
        ""
      ],
      "metadata": {
        "id": "CXCOEMsc0mF7"
      },
      "execution_count": null,
      "outputs": []
    }
  ]
}